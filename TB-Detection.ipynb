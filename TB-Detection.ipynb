{
  "cells": [
    {
      "cell_type": "code",
      "execution_count": 1,
      "id": "4809ac3e",
      "metadata": {
        "colab": {
          "base_uri": "https://localhost:8080/",
          "height": 87
        },
        "id": "4809ac3e",
        "outputId": "fe3e93fd-62ae-41a7-8d45-e46ff1eba13c"
      },
      "outputs": [
        {
          "output_type": "execute_result",
          "data": {
            "text/plain": [
              "'\\nCleaned & improved pipeline for Tuberculosis X-ray classification.\\nKey fixes vs original:\\n- Removed SMOTE on flattened images (inappropriate for images).\\n- Added robust image loading with checks.\\n- Stratified Train/Val/Test split.\\n- On-the-fly image augmentation with Keras preprocessing layers.\\n- Proper callbacks: EarlyStopping & ReduceLROnPlateau monitoring val_loss.\\n- Class weights for imbalance (optional but enabled).\\n- Clear metrics, confusion matrix, PR curve, and training plots with validation.\\n- Single model definition (no duplicates).\\n'"
            ],
            "application/vnd.google.colaboratory.intrinsic+json": {
              "type": "string"
            }
          },
          "metadata": {},
          "execution_count": 1
        }
      ],
      "source": [
        "# -*- coding: utf-8 -*-\n",
        "\"\"\"\n",
        "Cleaned & improved pipeline for Tuberculosis X-ray classification.\n",
        "Key fixes vs original:\n",
        "- Removed SMOTE on flattened images (inappropriate for images).\n",
        "- Added robust image loading with checks.\n",
        "- Stratified Train/Val/Test split.\n",
        "- On-the-fly image augmentation with Keras preprocessing layers.\n",
        "- Proper callbacks: EarlyStopping & ReduceLROnPlateau monitoring val_loss.\n",
        "- Class weights for imbalance (optional but enabled).\n",
        "- Clear metrics, confusion matrix, PR curve, and training plots with validation.\n",
        "- Single model definition (no duplicates).\n",
        "\"\"\""
      ]
    },
    {
      "cell_type": "code",
      "execution_count": 2,
      "id": "f94fd506",
      "metadata": {
        "id": "f94fd506"
      },
      "outputs": [],
      "source": [
        "import os\n",
        "import cv2 as cv\n",
        "import numpy as np\n",
        "import tensorflow as tf\n",
        "import pandas as pd\n",
        "import matplotlib.pyplot as plt\n",
        "from sklearn.model_selection import train_test_split\n",
        "from sklearn.metrics import (\n",
        "    classification_report,\n",
        "    confusion_matrix,\n",
        "    precision_recall_curve,\n",
        "    average_precision_score,\n",
        ")\n",
        "from collections import Counter"
      ]
    },
    {
      "cell_type": "code",
      "execution_count": 3,
      "id": "cf6cac61",
      "metadata": {
        "colab": {
          "base_uri": "https://localhost:8080/"
        },
        "id": "cf6cac61",
        "outputId": "859fb31a-4046-4010-f18c-3f7f52bb7c28"
      },
      "outputs": [
        {
          "output_type": "stream",
          "name": "stdout",
          "text": [
            "Path to dataset files: /kaggle/input/tuberculosis-tb-chest-xray-dataset\n"
          ]
        }
      ],
      "source": [
        "# ------------------------------\n",
        "# 1) Dataset acquisition (KaggleHub) and paths\n",
        "# ------------------------------\n",
        "try:\n",
        "    import kagglehub\n",
        "    path = kagglehub.dataset_download(\"tawsifurrahman/tuberculosis-tb-chest-xray-dataset\")\n",
        "    print(\"Path to dataset files:\", path)\n",
        "except Exception as e:\n",
        "    print(\"KaggleHub not available or dataset already present:\", e)"
      ]
    },
    {
      "cell_type": "code",
      "execution_count": 4,
      "id": "1bf237b1",
      "metadata": {
        "id": "1bf237b1"
      },
      "outputs": [],
      "source": [
        "# # Update these if your cache path differs\n",
        "# BASE = os.path.expanduser(\"~/.cache/kagglehub/datasets/tawsifurrahman/tuberculosis-tb-chest-xray-dataset/versions/3/TB_Chest_Radiography_Database\")\n",
        "# NORMAL_DIR = os.path.join(BASE, \"Normal\")\n",
        "# TB_DIR = os.path.join(BASE, \"Tuberculosis\")\n",
        "NORMAL_DIR = os.path.join(path, \"TB_Chest_Radiography_Database\", \"Normal\")\n",
        "TB_DIR = os.path.join(path, \"TB_Chest_Radiography_Database\", \"Tuberculosis\")"
      ]
    },
    {
      "cell_type": "code",
      "execution_count": 5,
      "id": "6ceddc99",
      "metadata": {
        "id": "6ceddc99"
      },
      "outputs": [],
      "source": [
        "IMG_SIZE = 256\n",
        "SEED = 42\n",
        "BATCH_SIZE = 16\n",
        "AUTOTUNE = tf.data.AUTOTUNE"
      ]
    },
    {
      "cell_type": "code",
      "execution_count": 6,
      "id": "45b0e6b7",
      "metadata": {
        "id": "45b0e6b7"
      },
      "outputs": [],
      "source": [
        "# ------------------------------\n",
        "# 2) Robust image loading\n",
        "# ------------------------------\n",
        "def load_images_from_dir(directory, label, img_size=256, limit=None):\n",
        "    imgs, labels = [], []\n",
        "    if not os.path.isdir(directory):\n",
        "        print(f\"WARNING: Directory not found -> {directory}\")\n",
        "        return np.array(imgs), np.array(labels)\n",
        "    count = 0\n",
        "    for fname in os.listdir(directory):\n",
        "        fpath = os.path.join(directory, fname)\n",
        "        if not os.path.isfile(fpath):\n",
        "            continue\n",
        "        image = cv.imread(fpath, cv.IMREAD_GRAYSCALE)\n",
        "        if image is None:\n",
        "            # Skip corrupt/unreadable files\n",
        "            continue\n",
        "        try:\n",
        "            image = cv.resize(image, (img_size, img_size), interpolation=cv.INTER_AREA)\n",
        "        except Exception:\n",
        "            continue\n",
        "        imgs.append(image)\n",
        "        labels.append(label)\n",
        "        count += 1\n",
        "        if limit is not None and count >= limit:\n",
        "            break\n",
        "    return np.array(imgs), np.array(labels)"
      ]
    },
    {
      "cell_type": "code",
      "execution_count": 7,
      "id": "8bc0b932",
      "metadata": {
        "id": "8bc0b932"
      },
      "outputs": [],
      "source": [
        "normal_imgs, normal_labels = load_images_from_dir(NORMAL_DIR, 0, IMG_SIZE)\n",
        "tb_imgs, tb_labels = load_images_from_dir(TB_DIR, 1, IMG_SIZE)"
      ]
    },
    {
      "cell_type": "code",
      "execution_count": 8,
      "id": "a84a5833",
      "metadata": {
        "id": "a84a5833"
      },
      "outputs": [],
      "source": [
        "images = np.concatenate([normal_imgs, tb_imgs], axis=0)\n",
        "labels = np.concatenate([normal_labels, tb_labels], axis=0).astype(np.int32)"
      ]
    },
    {
      "cell_type": "code",
      "execution_count": 9,
      "id": "db2ad3d4",
      "metadata": {
        "colab": {
          "base_uri": "https://localhost:8080/"
        },
        "id": "db2ad3d4",
        "outputId": "801710ae-0e37-45ae-c34d-2384a294571b"
      },
      "outputs": [
        {
          "output_type": "stream",
          "name": "stdout",
          "text": [
            "Total images loaded: 4200\n",
            "Class distribution: Counter({np.int32(0): 3500, np.int32(1): 700})\n"
          ]
        }
      ],
      "source": [
        "print(\"Total images loaded:\", images.shape[0])\n",
        "print(\"Class distribution:\", Counter(labels))"
      ]
    },
    {
      "cell_type": "code",
      "execution_count": 10,
      "id": "89e68595",
      "metadata": {
        "id": "89e68595"
      },
      "outputs": [],
      "source": [
        "# Normalize to [0,1] and add channel dimension\n",
        "images = images.astype(\"float32\") / 255.0\n",
        "images = np.expand_dims(images, axis=-1)  # (N, H, W, 1)"
      ]
    },
    {
      "cell_type": "code",
      "execution_count": 11,
      "id": "df8135b5",
      "metadata": {
        "id": "df8135b5"
      },
      "outputs": [],
      "source": [
        "# ------------------------------\n",
        "# 3) Stratified Train/Val/Test split\n",
        "# ------------------------------\n",
        "# First split train+val and test\n",
        "X_tmp, X_test, y_tmp, y_test = train_test_split(\n",
        "    images, labels, test_size=0.20, random_state=SEED, stratify=labels\n",
        ")\n",
        "# Then split train and val\n",
        "X_train, X_val, y_train, y_val = train_test_split(\n",
        "    X_tmp, y_tmp, test_size=0.20, random_state=SEED, stratify=y_tmp\n",
        ")"
      ]
    },
    {
      "cell_type": "code",
      "execution_count": 12,
      "id": "a7d6cd9f",
      "metadata": {
        "id": "a7d6cd9f",
        "colab": {
          "base_uri": "https://localhost:8080/"
        },
        "outputId": "07833bda-9ae9-4c28-8552-1a80bb19012d"
      },
      "outputs": [
        {
          "output_type": "stream",
          "name": "stdout",
          "text": [
            "Shapes -> Train: (2688, 256, 256, 1)  Val: (672, 256, 256, 1)  Test: (840, 256, 256, 1)\n"
          ]
        }
      ],
      "source": [
        "print(\"Shapes -> Train:\", X_train.shape, \" Val:\", X_val.shape, \" Test:\", X_test.shape)"
      ]
    },
    {
      "cell_type": "code",
      "execution_count": 13,
      "id": "3d1fe231",
      "metadata": {
        "id": "3d1fe231"
      },
      "outputs": [],
      "source": [
        "# ------------------------------\n",
        "# 4) tf.data pipelines\n",
        "# ------------------------------\n",
        "# Data augmentation with Keras preprocessing layers keeps spatial structure\n",
        "data_augmentation = tf.keras.Sequential([\n",
        "    tf.keras.layers.RandomFlip(\"horizontal\"),\n",
        "    tf.keras.layers.RandomRotation(0.02),\n",
        "    tf.keras.layers.RandomZoom(0.05),\n",
        "], name=\"augmentation\")"
      ]
    },
    {
      "cell_type": "code",
      "execution_count": 14,
      "id": "7df03fe7",
      "metadata": {
        "id": "7df03fe7"
      },
      "outputs": [],
      "source": [
        "def make_ds(X, y, training=False, batch_size=BATCH_SIZE):\n",
        "    ds = tf.data.Dataset.from_tensor_slices((X, y))\n",
        "    if training:\n",
        "        ds = ds.shuffle(buffer_size=len(X), seed=SEED, reshuffle_each_iteration=True)\n",
        "        # Map augmentation only during training\n",
        "        ds = ds.map(lambda img, lbl: (data_augmentation(img, training=True), lbl),\n",
        "                    num_parallel_calls=AUTOTUNE)\n",
        "    ds = ds.batch(batch_size).prefetch(AUTOTUNE)\n",
        "    return ds"
      ]
    },
    {
      "cell_type": "code",
      "execution_count": 15,
      "id": "81d583a3",
      "metadata": {
        "id": "81d583a3"
      },
      "outputs": [],
      "source": [
        "train_ds = make_ds(X_train, y_train, training=True)\n",
        "val_ds   = make_ds(X_val, y_val, training=False)\n",
        "test_ds  = make_ds(X_test, y_test, training=False)"
      ]
    },
    {
      "cell_type": "code",
      "execution_count": 16,
      "id": "6d3e7d29",
      "metadata": {
        "id": "6d3e7d29"
      },
      "outputs": [],
      "source": [
        "# ------------------------------\n",
        "# 5) Model\n",
        "# ------------------------------\n",
        "def build_model(img_size=256):\n",
        "    inputs = tf.keras.Input(shape=(img_size, img_size, 1))\n",
        "    x = tf.keras.layers.Conv2D(16, (3,3), activation=\"relu\")(inputs)\n",
        "    x = tf.keras.layers.MaxPooling2D((2,2))(x)\n",
        "    x = tf.keras.layers.Conv2D(32, (3,3), activation=\"relu\")(x)\n",
        "    x = tf.keras.layers.MaxPooling2D((2,2))(x)\n",
        "    x = tf.keras.layers.Conv2D(64, (3,3), activation=\"relu\")(x)\n",
        "    x = tf.keras.layers.MaxPooling2D((2,2))(x)\n",
        "    x = tf.keras.layers.Flatten()(x)\n",
        "    x = tf.keras.layers.Dense(64, activation=\"relu\")(x)\n",
        "    x = tf.keras.layers.Dropout(0.5)(x)\n",
        "    outputs = tf.keras.layers.Dense(1, activation=\"sigmoid\")(x)\n",
        "    model = tf.keras.Model(inputs, outputs, name=\"tb_cnn\")\n",
        "    model.compile(\n",
        "        optimizer=tf.keras.optimizers.Adam(learning_rate=1e-3),\n",
        "        loss=\"binary_crossentropy\",\n",
        "        metrics=[\"accuracy\", tf.keras.metrics.AUC(name=\"auc\")]\n",
        "    )\n",
        "    return model"
      ]
    },
    {
      "cell_type": "code",
      "execution_count": 17,
      "id": "1312545f",
      "metadata": {
        "id": "1312545f",
        "colab": {
          "base_uri": "https://localhost:8080/",
          "height": 510
        },
        "collapsed": true,
        "outputId": "d5ecc8aa-da19-4190-b743-76871b09dc07"
      },
      "outputs": [
        {
          "output_type": "display_data",
          "data": {
            "text/plain": [
              "\u001b[1mModel: \"tb_cnn\"\u001b[0m\n"
            ],
            "text/html": [
              "<pre style=\"white-space:pre;overflow-x:auto;line-height:normal;font-family:Menlo,'DejaVu Sans Mono',consolas,'Courier New',monospace\"><span style=\"font-weight: bold\">Model: \"tb_cnn\"</span>\n",
              "</pre>\n"
            ]
          },
          "metadata": {}
        },
        {
          "output_type": "display_data",
          "data": {
            "text/plain": [
              "┏━━━━━━━━━━━━━━━━━━━━━━━━━━━━━━━━━┳━━━━━━━━━━━━━━━━━━━━━━━━┳━━━━━━━━━━━━━━━┓\n",
              "┃\u001b[1m \u001b[0m\u001b[1mLayer (type)                   \u001b[0m\u001b[1m \u001b[0m┃\u001b[1m \u001b[0m\u001b[1mOutput Shape          \u001b[0m\u001b[1m \u001b[0m┃\u001b[1m \u001b[0m\u001b[1m      Param #\u001b[0m\u001b[1m \u001b[0m┃\n",
              "┡━━━━━━━━━━━━━━━━━━━━━━━━━━━━━━━━━╇━━━━━━━━━━━━━━━━━━━━━━━━╇━━━━━━━━━━━━━━━┩\n",
              "│ input_layer_1 (\u001b[38;5;33mInputLayer\u001b[0m)      │ (\u001b[38;5;45mNone\u001b[0m, \u001b[38;5;34m256\u001b[0m, \u001b[38;5;34m256\u001b[0m, \u001b[38;5;34m1\u001b[0m)    │             \u001b[38;5;34m0\u001b[0m │\n",
              "├─────────────────────────────────┼────────────────────────┼───────────────┤\n",
              "│ conv2d (\u001b[38;5;33mConv2D\u001b[0m)                 │ (\u001b[38;5;45mNone\u001b[0m, \u001b[38;5;34m254\u001b[0m, \u001b[38;5;34m254\u001b[0m, \u001b[38;5;34m16\u001b[0m)   │           \u001b[38;5;34m160\u001b[0m │\n",
              "├─────────────────────────────────┼────────────────────────┼───────────────┤\n",
              "│ max_pooling2d (\u001b[38;5;33mMaxPooling2D\u001b[0m)    │ (\u001b[38;5;45mNone\u001b[0m, \u001b[38;5;34m127\u001b[0m, \u001b[38;5;34m127\u001b[0m, \u001b[38;5;34m16\u001b[0m)   │             \u001b[38;5;34m0\u001b[0m │\n",
              "├─────────────────────────────────┼────────────────────────┼───────────────┤\n",
              "│ conv2d_1 (\u001b[38;5;33mConv2D\u001b[0m)               │ (\u001b[38;5;45mNone\u001b[0m, \u001b[38;5;34m125\u001b[0m, \u001b[38;5;34m125\u001b[0m, \u001b[38;5;34m32\u001b[0m)   │         \u001b[38;5;34m4,640\u001b[0m │\n",
              "├─────────────────────────────────┼────────────────────────┼───────────────┤\n",
              "│ max_pooling2d_1 (\u001b[38;5;33mMaxPooling2D\u001b[0m)  │ (\u001b[38;5;45mNone\u001b[0m, \u001b[38;5;34m62\u001b[0m, \u001b[38;5;34m62\u001b[0m, \u001b[38;5;34m32\u001b[0m)     │             \u001b[38;5;34m0\u001b[0m │\n",
              "├─────────────────────────────────┼────────────────────────┼───────────────┤\n",
              "│ conv2d_2 (\u001b[38;5;33mConv2D\u001b[0m)               │ (\u001b[38;5;45mNone\u001b[0m, \u001b[38;5;34m60\u001b[0m, \u001b[38;5;34m60\u001b[0m, \u001b[38;5;34m64\u001b[0m)     │        \u001b[38;5;34m18,496\u001b[0m │\n",
              "├─────────────────────────────────┼────────────────────────┼───────────────┤\n",
              "│ max_pooling2d_2 (\u001b[38;5;33mMaxPooling2D\u001b[0m)  │ (\u001b[38;5;45mNone\u001b[0m, \u001b[38;5;34m30\u001b[0m, \u001b[38;5;34m30\u001b[0m, \u001b[38;5;34m64\u001b[0m)     │             \u001b[38;5;34m0\u001b[0m │\n",
              "├─────────────────────────────────┼────────────────────────┼───────────────┤\n",
              "│ flatten (\u001b[38;5;33mFlatten\u001b[0m)               │ (\u001b[38;5;45mNone\u001b[0m, \u001b[38;5;34m57600\u001b[0m)          │             \u001b[38;5;34m0\u001b[0m │\n",
              "├─────────────────────────────────┼────────────────────────┼───────────────┤\n",
              "│ dense (\u001b[38;5;33mDense\u001b[0m)                   │ (\u001b[38;5;45mNone\u001b[0m, \u001b[38;5;34m64\u001b[0m)             │     \u001b[38;5;34m3,686,464\u001b[0m │\n",
              "├─────────────────────────────────┼────────────────────────┼───────────────┤\n",
              "│ dropout (\u001b[38;5;33mDropout\u001b[0m)               │ (\u001b[38;5;45mNone\u001b[0m, \u001b[38;5;34m64\u001b[0m)             │             \u001b[38;5;34m0\u001b[0m │\n",
              "├─────────────────────────────────┼────────────────────────┼───────────────┤\n",
              "│ dense_1 (\u001b[38;5;33mDense\u001b[0m)                 │ (\u001b[38;5;45mNone\u001b[0m, \u001b[38;5;34m1\u001b[0m)              │            \u001b[38;5;34m65\u001b[0m │\n",
              "└─────────────────────────────────┴────────────────────────┴───────────────┘\n"
            ],
            "text/html": [
              "<pre style=\"white-space:pre;overflow-x:auto;line-height:normal;font-family:Menlo,'DejaVu Sans Mono',consolas,'Courier New',monospace\">┏━━━━━━━━━━━━━━━━━━━━━━━━━━━━━━━━━┳━━━━━━━━━━━━━━━━━━━━━━━━┳━━━━━━━━━━━━━━━┓\n",
              "┃<span style=\"font-weight: bold\"> Layer (type)                    </span>┃<span style=\"font-weight: bold\"> Output Shape           </span>┃<span style=\"font-weight: bold\">       Param # </span>┃\n",
              "┡━━━━━━━━━━━━━━━━━━━━━━━━━━━━━━━━━╇━━━━━━━━━━━━━━━━━━━━━━━━╇━━━━━━━━━━━━━━━┩\n",
              "│ input_layer_1 (<span style=\"color: #0087ff; text-decoration-color: #0087ff\">InputLayer</span>)      │ (<span style=\"color: #00d7ff; text-decoration-color: #00d7ff\">None</span>, <span style=\"color: #00af00; text-decoration-color: #00af00\">256</span>, <span style=\"color: #00af00; text-decoration-color: #00af00\">256</span>, <span style=\"color: #00af00; text-decoration-color: #00af00\">1</span>)    │             <span style=\"color: #00af00; text-decoration-color: #00af00\">0</span> │\n",
              "├─────────────────────────────────┼────────────────────────┼───────────────┤\n",
              "│ conv2d (<span style=\"color: #0087ff; text-decoration-color: #0087ff\">Conv2D</span>)                 │ (<span style=\"color: #00d7ff; text-decoration-color: #00d7ff\">None</span>, <span style=\"color: #00af00; text-decoration-color: #00af00\">254</span>, <span style=\"color: #00af00; text-decoration-color: #00af00\">254</span>, <span style=\"color: #00af00; text-decoration-color: #00af00\">16</span>)   │           <span style=\"color: #00af00; text-decoration-color: #00af00\">160</span> │\n",
              "├─────────────────────────────────┼────────────────────────┼───────────────┤\n",
              "│ max_pooling2d (<span style=\"color: #0087ff; text-decoration-color: #0087ff\">MaxPooling2D</span>)    │ (<span style=\"color: #00d7ff; text-decoration-color: #00d7ff\">None</span>, <span style=\"color: #00af00; text-decoration-color: #00af00\">127</span>, <span style=\"color: #00af00; text-decoration-color: #00af00\">127</span>, <span style=\"color: #00af00; text-decoration-color: #00af00\">16</span>)   │             <span style=\"color: #00af00; text-decoration-color: #00af00\">0</span> │\n",
              "├─────────────────────────────────┼────────────────────────┼───────────────┤\n",
              "│ conv2d_1 (<span style=\"color: #0087ff; text-decoration-color: #0087ff\">Conv2D</span>)               │ (<span style=\"color: #00d7ff; text-decoration-color: #00d7ff\">None</span>, <span style=\"color: #00af00; text-decoration-color: #00af00\">125</span>, <span style=\"color: #00af00; text-decoration-color: #00af00\">125</span>, <span style=\"color: #00af00; text-decoration-color: #00af00\">32</span>)   │         <span style=\"color: #00af00; text-decoration-color: #00af00\">4,640</span> │\n",
              "├─────────────────────────────────┼────────────────────────┼───────────────┤\n",
              "│ max_pooling2d_1 (<span style=\"color: #0087ff; text-decoration-color: #0087ff\">MaxPooling2D</span>)  │ (<span style=\"color: #00d7ff; text-decoration-color: #00d7ff\">None</span>, <span style=\"color: #00af00; text-decoration-color: #00af00\">62</span>, <span style=\"color: #00af00; text-decoration-color: #00af00\">62</span>, <span style=\"color: #00af00; text-decoration-color: #00af00\">32</span>)     │             <span style=\"color: #00af00; text-decoration-color: #00af00\">0</span> │\n",
              "├─────────────────────────────────┼────────────────────────┼───────────────┤\n",
              "│ conv2d_2 (<span style=\"color: #0087ff; text-decoration-color: #0087ff\">Conv2D</span>)               │ (<span style=\"color: #00d7ff; text-decoration-color: #00d7ff\">None</span>, <span style=\"color: #00af00; text-decoration-color: #00af00\">60</span>, <span style=\"color: #00af00; text-decoration-color: #00af00\">60</span>, <span style=\"color: #00af00; text-decoration-color: #00af00\">64</span>)     │        <span style=\"color: #00af00; text-decoration-color: #00af00\">18,496</span> │\n",
              "├─────────────────────────────────┼────────────────────────┼───────────────┤\n",
              "│ max_pooling2d_2 (<span style=\"color: #0087ff; text-decoration-color: #0087ff\">MaxPooling2D</span>)  │ (<span style=\"color: #00d7ff; text-decoration-color: #00d7ff\">None</span>, <span style=\"color: #00af00; text-decoration-color: #00af00\">30</span>, <span style=\"color: #00af00; text-decoration-color: #00af00\">30</span>, <span style=\"color: #00af00; text-decoration-color: #00af00\">64</span>)     │             <span style=\"color: #00af00; text-decoration-color: #00af00\">0</span> │\n",
              "├─────────────────────────────────┼────────────────────────┼───────────────┤\n",
              "│ flatten (<span style=\"color: #0087ff; text-decoration-color: #0087ff\">Flatten</span>)               │ (<span style=\"color: #00d7ff; text-decoration-color: #00d7ff\">None</span>, <span style=\"color: #00af00; text-decoration-color: #00af00\">57600</span>)          │             <span style=\"color: #00af00; text-decoration-color: #00af00\">0</span> │\n",
              "├─────────────────────────────────┼────────────────────────┼───────────────┤\n",
              "│ dense (<span style=\"color: #0087ff; text-decoration-color: #0087ff\">Dense</span>)                   │ (<span style=\"color: #00d7ff; text-decoration-color: #00d7ff\">None</span>, <span style=\"color: #00af00; text-decoration-color: #00af00\">64</span>)             │     <span style=\"color: #00af00; text-decoration-color: #00af00\">3,686,464</span> │\n",
              "├─────────────────────────────────┼────────────────────────┼───────────────┤\n",
              "│ dropout (<span style=\"color: #0087ff; text-decoration-color: #0087ff\">Dropout</span>)               │ (<span style=\"color: #00d7ff; text-decoration-color: #00d7ff\">None</span>, <span style=\"color: #00af00; text-decoration-color: #00af00\">64</span>)             │             <span style=\"color: #00af00; text-decoration-color: #00af00\">0</span> │\n",
              "├─────────────────────────────────┼────────────────────────┼───────────────┤\n",
              "│ dense_1 (<span style=\"color: #0087ff; text-decoration-color: #0087ff\">Dense</span>)                 │ (<span style=\"color: #00d7ff; text-decoration-color: #00d7ff\">None</span>, <span style=\"color: #00af00; text-decoration-color: #00af00\">1</span>)              │            <span style=\"color: #00af00; text-decoration-color: #00af00\">65</span> │\n",
              "└─────────────────────────────────┴────────────────────────┴───────────────┘\n",
              "</pre>\n"
            ]
          },
          "metadata": {}
        },
        {
          "output_type": "display_data",
          "data": {
            "text/plain": [
              "\u001b[1m Total params: \u001b[0m\u001b[38;5;34m3,709,825\u001b[0m (14.15 MB)\n"
            ],
            "text/html": [
              "<pre style=\"white-space:pre;overflow-x:auto;line-height:normal;font-family:Menlo,'DejaVu Sans Mono',consolas,'Courier New',monospace\"><span style=\"font-weight: bold\"> Total params: </span><span style=\"color: #00af00; text-decoration-color: #00af00\">3,709,825</span> (14.15 MB)\n",
              "</pre>\n"
            ]
          },
          "metadata": {}
        },
        {
          "output_type": "display_data",
          "data": {
            "text/plain": [
              "\u001b[1m Trainable params: \u001b[0m\u001b[38;5;34m3,709,825\u001b[0m (14.15 MB)\n"
            ],
            "text/html": [
              "<pre style=\"white-space:pre;overflow-x:auto;line-height:normal;font-family:Menlo,'DejaVu Sans Mono',consolas,'Courier New',monospace\"><span style=\"font-weight: bold\"> Trainable params: </span><span style=\"color: #00af00; text-decoration-color: #00af00\">3,709,825</span> (14.15 MB)\n",
              "</pre>\n"
            ]
          },
          "metadata": {}
        },
        {
          "output_type": "display_data",
          "data": {
            "text/plain": [
              "\u001b[1m Non-trainable params: \u001b[0m\u001b[38;5;34m0\u001b[0m (0.00 B)\n"
            ],
            "text/html": [
              "<pre style=\"white-space:pre;overflow-x:auto;line-height:normal;font-family:Menlo,'DejaVu Sans Mono',consolas,'Courier New',monospace\"><span style=\"font-weight: bold\"> Non-trainable params: </span><span style=\"color: #00af00; text-decoration-color: #00af00\">0</span> (0.00 B)\n",
              "</pre>\n"
            ]
          },
          "metadata": {}
        }
      ],
      "source": [
        "model = build_model(IMG_SIZE)\n",
        "model.summary()"
      ]
    },
    {
      "cell_type": "code",
      "execution_count": 18,
      "id": "ee0863a2",
      "metadata": {
        "id": "ee0863a2",
        "colab": {
          "base_uri": "https://localhost:8080/"
        },
        "outputId": "0857bdf2-37cf-4789-dac5-161c14fcd2ae"
      },
      "outputs": [
        {
          "output_type": "stream",
          "name": "stdout",
          "text": [
            "Class weights: {np.int32(1): 3.0, np.int32(0): 0.6}\n"
          ]
        }
      ],
      "source": [
        "# ------------------------------\n",
        "# 6) Class weights to handle imbalance\n",
        "# ------------------------------\n",
        "class_counts = Counter(y_train)\n",
        "total = sum(class_counts.values())\n",
        "class_weight = {cls: total/(len(class_counts)*count) for cls, count in class_counts.items()}\n",
        "print(\"Class weights:\", class_weight)"
      ]
    },
    {
      "cell_type": "code",
      "execution_count": 19,
      "id": "d18f4bfe",
      "metadata": {
        "id": "d18f4bfe"
      },
      "outputs": [],
      "source": [
        "# ------------------------------\n",
        "# 7) Callbacks (monitor validation loss)\n",
        "# ------------------------------\n",
        "callbacks = [\n",
        "    tf.keras.callbacks.ReduceLROnPlateau(monitor=\"val_loss\", factor=0.5, patience=2, min_lr=1e-6, verbose=1),\n",
        "    tf.keras.callbacks.EarlyStopping(monitor=\"val_loss\", patience=5, restore_best_weights=True, verbose=1),\n",
        "    tf.keras.callbacks.ModelCheckpoint(\"best_tb_cnn.keras\", monitor=\"val_loss\", save_best_only=True, verbose=1),\n",
        "]"
      ]
    },
    {
      "cell_type": "code",
      "execution_count": 20,
      "id": "f87df808",
      "metadata": {
        "id": "f87df808",
        "colab": {
          "base_uri": "https://localhost:8080/"
        },
        "collapsed": true,
        "outputId": "0fb79a5b-8ac2-443c-e89c-74f31c9980cf"
      },
      "outputs": [
        {
          "output_type": "stream",
          "name": "stdout",
          "text": [
            "Epoch 1/10\n",
            "\n",
            "Epoch 1: val_loss improved from inf to 0.24893, saving model to best_tb_cnn.keras\n",
            "168/168 - 25s - 150ms/step - accuracy: 0.7879 - auc: 0.8112 - loss: 0.5411 - val_accuracy: 0.9048 - val_auc: 0.9529 - val_loss: 0.2489 - learning_rate: 1.0000e-03\n",
            "Epoch 2/10\n",
            "\n",
            "Epoch 2: val_loss improved from 0.24893 to 0.17010, saving model to best_tb_cnn.keras\n",
            "168/168 - 35s - 209ms/step - accuracy: 0.8475 - auc: 0.9064 - loss: 0.4046 - val_accuracy: 0.9449 - val_auc: 0.9662 - val_loss: 0.1701 - learning_rate: 1.0000e-03\n",
            "Epoch 3/10\n",
            "\n",
            "Epoch 3: val_loss did not improve from 0.17010\n",
            "168/168 - 16s - 94ms/step - accuracy: 0.8828 - auc: 0.9430 - loss: 0.3111 - val_accuracy: 0.9241 - val_auc: 0.9767 - val_loss: 0.1782 - learning_rate: 1.0000e-03\n",
            "Epoch 4/10\n",
            "\n",
            "Epoch 4: val_loss improved from 0.17010 to 0.15503, saving model to best_tb_cnn.keras\n",
            "168/168 - 21s - 125ms/step - accuracy: 0.8843 - auc: 0.9508 - loss: 0.2869 - val_accuracy: 0.9360 - val_auc: 0.9736 - val_loss: 0.1550 - learning_rate: 1.0000e-03\n",
            "Epoch 5/10\n",
            "\n",
            "Epoch 5: val_loss improved from 0.15503 to 0.12572, saving model to best_tb_cnn.keras\n",
            "168/168 - 20s - 118ms/step - accuracy: 0.9111 - auc: 0.9624 - loss: 0.2516 - val_accuracy: 0.9509 - val_auc: 0.9854 - val_loss: 0.1257 - learning_rate: 1.0000e-03\n",
            "Epoch 6/10\n",
            "\n",
            "Epoch 6: val_loss improved from 0.12572 to 0.10374, saving model to best_tb_cnn.keras\n",
            "168/168 - 16s - 95ms/step - accuracy: 0.9241 - auc: 0.9712 - loss: 0.2179 - val_accuracy: 0.9539 - val_auc: 0.9884 - val_loss: 0.1037 - learning_rate: 1.0000e-03\n",
            "Epoch 7/10\n",
            "\n",
            "Epoch 7: val_loss did not improve from 0.10374\n",
            "168/168 - 20s - 119ms/step - accuracy: 0.9230 - auc: 0.9733 - loss: 0.2117 - val_accuracy: 0.9479 - val_auc: 0.9918 - val_loss: 0.1264 - learning_rate: 1.0000e-03\n",
            "Epoch 8/10\n",
            "\n",
            "Epoch 8: ReduceLROnPlateau reducing learning rate to 0.0005000000237487257.\n",
            "\n",
            "Epoch 8: val_loss did not improve from 0.10374\n",
            "168/168 - 16s - 93ms/step - accuracy: 0.9137 - auc: 0.9739 - loss: 0.2079 - val_accuracy: 0.9628 - val_auc: 0.9926 - val_loss: 0.1167 - learning_rate: 1.0000e-03\n",
            "Epoch 9/10\n",
            "\n",
            "Epoch 9: val_loss improved from 0.10374 to 0.10071, saving model to best_tb_cnn.keras\n",
            "168/168 - 17s - 99ms/step - accuracy: 0.9453 - auc: 0.9828 - loss: 0.1651 - val_accuracy: 0.9643 - val_auc: 0.9939 - val_loss: 0.1007 - learning_rate: 5.0000e-04\n",
            "Epoch 10/10\n",
            "\n",
            "Epoch 10: val_loss improved from 0.10071 to 0.08404, saving model to best_tb_cnn.keras\n",
            "168/168 - 16s - 93ms/step - accuracy: 0.9528 - auc: 0.9889 - loss: 0.1332 - val_accuracy: 0.9717 - val_auc: 0.9947 - val_loss: 0.0840 - learning_rate: 5.0000e-04\n",
            "Restoring model weights from the end of the best epoch: 10.\n"
          ]
        }
      ],
      "source": [
        "# ------------------------------\n",
        "# 8) Train\n",
        "# ------------------------------\n",
        "history = model.fit(\n",
        "    train_ds,\n",
        "    validation_data=val_ds,\n",
        "    epochs=10,\n",
        "    class_weight=class_weight,\n",
        "    callbacks=callbacks,\n",
        "    verbose=2\n",
        ")"
      ]
    },
    {
      "cell_type": "code",
      "execution_count": 21,
      "id": "e3329720",
      "metadata": {
        "id": "e3329720",
        "colab": {
          "base_uri": "https://localhost:8080/",
          "height": 504
        },
        "outputId": "9c2153fd-ed90-48d1-c410-d92111ab4222"
      },
      "outputs": [
        {
          "output_type": "execute_result",
          "data": {
            "text/plain": [
              "<matplotlib.legend.Legend at 0x7ae1782ba650>"
            ]
          },
          "metadata": {},
          "execution_count": 21
        },
        {
          "output_type": "display_data",
          "data": {
            "text/plain": [
              "<Figure size 1200x500 with 1 Axes>"
            ],
            "image/png": "[encoded data removed]"
          },
          "metadata": {}
        }
      ],
      "source": [
        "# ------------------------------\n",
        "# 9) Training curves\n",
        "# ------------------------------\n",
        "plt.figure(figsize=(12,5))\n",
        "plt.subplot(1,2,1)\n",
        "plt.plot(history.history[\"loss\"], label=\"train_loss\")\n",
        "plt.plot(history.history[\"val_loss\"], label=\"val_loss\")\n",
        "plt.title(\"Loss over epochs\")\n",
        "plt.xlabel(\"Epoch\")\n",
        "plt.ylabel(\"Loss\")\n",
        "plt.legend()"
      ]
    },
    {
      "cell_type": "code",
      "execution_count": 22,
      "id": "68b5d37e",
      "metadata": {
        "id": "68b5d37e",
        "colab": {
          "base_uri": "https://localhost:8080/",
          "height": 504
        },
        "outputId": "d22f93c0-89ae-4215-a3a6-9192b87a6df1"
      },
      "outputs": [
        {
          "output_type": "stream",
          "name": "stdout",
          "text": [
            "Saved training_curves.png\n"
          ]
        },
        {
          "output_type": "display_data",
          "data": {
            "text/plain": [
              "<Figure size 640x480 with 1 Axes>"
            ],
            "image/png": "[encoded data removed]"
          },
          "metadata": {}
        }
      ],
      "source": [
        "plt.subplot(1,2,2)\n",
        "plt.plot(history.history[\"accuracy\"], label=\"train_acc\")\n",
        "plt.plot(history.history[\"val_accuracy\"], label=\"val_acc\")\n",
        "plt.title(\"Accuracy over epochs\")\n",
        "plt.xlabel(\"Epoch\")\n",
        "plt.ylabel(\"Accuracy\")\n",
        "plt.legend()\n",
        "plt.tight_layout()\n",
        "plt.savefig(\"training_curves.png\", dpi=150)\n",
        "print(\"Saved training_curves.png\")"
      ]
    },
    {
      "cell_type": "code",
      "execution_count": 23,
      "id": "db9d40b6",
      "metadata": {
        "id": "db9d40b6",
        "colab": {
          "base_uri": "https://localhost:8080/"
        },
        "outputId": "36ba2183-c69a-4d61-80f5-742108f38786"
      },
      "outputs": [
        {
          "output_type": "stream",
          "name": "stdout",
          "text": [
            "\n",
            "TEST RESULTS:\n",
            "{'accuracy': 0.9595237970352173, 'auc': 0.9821274876594543, 'loss': 0.1093544289469719}\n"
          ]
        }
      ],
      "source": [
        "# ------------------------------\n",
        "# 10) Evaluate on test set\n",
        "# ------------------------------\n",
        "print(\"\\nTEST RESULTS:\")\n",
        "test_metrics = model.evaluate(test_ds, verbose=0, return_dict=True)\n",
        "print(test_metrics)"
      ]
    },
    {
      "cell_type": "code",
      "execution_count": 24,
      "id": "ce23ec21",
      "metadata": {
        "id": "ce23ec21"
      },
      "outputs": [],
      "source": [
        "# Predictions & metrics\n",
        "y_prob = model.predict(test_ds, verbose=0).ravel()\n",
        "y_pred = (y_prob >= 0.5).astype(np.int32)"
      ]
    },
    {
      "cell_type": "code",
      "execution_count": 25,
      "id": "da292aa3",
      "metadata": {
        "id": "da292aa3",
        "colab": {
          "base_uri": "https://localhost:8080/"
        },
        "outputId": "199ad527-91f2-4e6b-a5b4-ec7db23f267e"
      },
      "outputs": [
        {
          "output_type": "stream",
          "name": "stdout",
          "text": [
            "\n",
            "Classification Report:\n",
            "              precision    recall  f1-score   support\n",
            "\n",
            "      Normal       0.99      0.97      0.98       700\n",
            "Tuberculosis       0.84      0.93      0.88       140\n",
            "\n",
            "    accuracy                           0.96       840\n",
            "   macro avg       0.91      0.95      0.93       840\n",
            "weighted avg       0.96      0.96      0.96       840\n",
            "\n"
          ]
        }
      ],
      "source": [
        "print(\"\\nClassification Report:\")\n",
        "print(classification_report(y_test, y_pred, target_names=[\"Normal\",\"Tuberculosis\"]))"
      ]
    },
    {
      "cell_type": "code",
      "execution_count": 26,
      "id": "49f6c6a2",
      "metadata": {
        "id": "49f6c6a2",
        "colab": {
          "base_uri": "https://localhost:8080/"
        },
        "outputId": "43289047-7c0f-4043-d77f-d088468437d6"
      },
      "outputs": [
        {
          "output_type": "stream",
          "name": "stdout",
          "text": [
            "Confusion Matrix:\n",
            " [[676  24]\n",
            " [ 10 130]]\n"
          ]
        }
      ],
      "source": [
        "cm = confusion_matrix(y_test, y_pred)\n",
        "print(\"Confusion Matrix:\\n\", cm)"
      ]
    },
    {
      "cell_type": "code",
      "execution_count": 27,
      "id": "deb6f663",
      "metadata": {
        "id": "deb6f663",
        "colab": {
          "base_uri": "https://localhost:8080/",
          "height": 524
        },
        "outputId": "ed4b90de-3bab-4f87-ef87-6b260e374607"
      },
      "outputs": [
        {
          "output_type": "stream",
          "name": "stdout",
          "text": [
            "Saved confusion_matrix.png\n"
          ]
        },
        {
          "output_type": "display_data",
          "data": {
            "text/plain": [
              "<Figure size 600x500 with 2 Axes>"
            ],
            "image/png": "[encoded data removed]"
          },
          "metadata": {}
        }
      ],
      "source": [
        "# Confusion matrix heatmap\n",
        "import seaborn as sns\n",
        "plt.figure(figsize=(6,5))\n",
        "sns.heatmap(cm, annot=True, fmt=\"d\", xticklabels=[\"Normal\",\"Tuberculosis\"], yticklabels=[\"Normal\",\"Tuberculosis\"])\n",
        "plt.xlabel(\"Predicted\")\n",
        "plt.ylabel(\"True\")\n",
        "plt.title(\"Confusion Matrix (Test)\")\n",
        "plt.tight_layout()\n",
        "plt.savefig(\"confusion_matrix.png\", dpi=150)\n",
        "print(\"Saved confusion_matrix.png\")"
      ]
    },
    {
      "cell_type": "code",
      "execution_count": 28,
      "id": "656cb79f",
      "metadata": {
        "id": "656cb79f"
      },
      "outputs": [],
      "source": [
        "# Precision-Recall\n",
        "precision, recall, thresholds = precision_recall_curve(y_test, y_prob)\n",
        "avg_precision = average_precision_score(y_test, y_prob)"
      ]
    },
    {
      "cell_type": "code",
      "execution_count": 29,
      "id": "ad5fa69c",
      "metadata": {
        "id": "ad5fa69c",
        "colab": {
          "base_uri": "https://localhost:8080/",
          "height": 624
        },
        "outputId": "73d74f79-e053-4382-c359-a5de397d6be4"
      },
      "outputs": [
        {
          "output_type": "stream",
          "name": "stdout",
          "text": [
            "Saved precision_recall.png\n"
          ]
        },
        {
          "output_type": "display_data",
          "data": {
            "text/plain": [
              "<Figure size 700x600 with 1 Axes>"
            ],
            "image/png": "[encoded data removed]"
          },
          "metadata": {}
        }
      ],
      "source": [
        "plt.figure(figsize=(7,6))\n",
        "plt.plot(recall, precision, linewidth=2)\n",
        "plt.title(f\"Precision-Recall Curve (AP = {avg_precision:.3f})\")\n",
        "plt.xlabel(\"Recall\")\n",
        "plt.ylabel(\"Precision\")\n",
        "plt.grid(True, linestyle=\"--\", alpha=0.7)\n",
        "plt.tight_layout()\n",
        "plt.savefig(\"precision_recall.png\", dpi=150)\n",
        "print(\"Saved precision_recall.png\")"
      ]
    },
    {
      "cell_type": "code",
      "execution_count": 30,
      "id": "bc72e037",
      "metadata": {
        "id": "bc72e037",
        "colab": {
          "base_uri": "https://localhost:8080/"
        },
        "outputId": "cf4402ef-4260-49a3-d577-b87c08b82a47"
      },
      "outputs": [
        {
          "output_type": "stream",
          "name": "stdout",
          "text": [
            "Saved model_architecture.png\n"
          ]
        }
      ],
      "source": [
        "# Save model architecture diagram\n",
        "try:\n",
        "    from tensorflow.keras.utils import plot_model\n",
        "    plot_model(model, to_file=\"model_architecture.png\", show_shapes=True, show_layer_names=True)\n",
        "    print(\"Saved model_architecture.png\")\n",
        "except Exception as e:\n",
        "    print(\"plot_model not available:\", e)"
      ]
    }
  ],
  "metadata": {
    "colab": {
      "provenance": [],
      "gpuType": "T4"
    },
    "accelerator": "GPU",
    "language_info": {
      "name": "python"
    },
    "kernelspec": {
      "name": "python3",
      "display_name": "Python 3"
    }
  },
  "nbformat": 4,
  "nbformat_minor": 5
}